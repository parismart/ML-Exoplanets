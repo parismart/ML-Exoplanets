{
 "cells": [
  {
   "cell_type": "markdown",
   "metadata": {},
   "source": [
    "## Comencemos importando las bibliotecas que usaremos:"
   ]
  },
  {
   "cell_type": "code",
   "execution_count": 1,
   "metadata": {},
   "outputs": [],
   "source": [
    "# !pip install lxml"
   ]
  },
  {
   "cell_type": "code",
   "execution_count": 64,
   "metadata": {},
   "outputs": [],
   "source": [
    "from selenium import webdriver\n",
    "from webdriver_manager.chrome import ChromeDriverManager\n",
    "import time\n",
    "from bs4 import BeautifulSoup as bs\n",
    "import seaborn as sns\n",
    "import matplotlib.pyplot as plt\n",
    "import pandas as pd\n",
    "import numpy as np"
   ]
  },
  {
   "cell_type": "code",
   "execution_count": 65,
   "metadata": {},
   "outputs": [
    {
     "name": "stdout",
     "output_type": "stream",
     "text": [
      "\n"
     ]
    },
    {
     "name": "stderr",
     "output_type": "stream",
     "text": [
      "[WDM] - ====== WebDriver manager ======\n",
      "[WDM] - Current google-chrome version is 102.0.5005\n",
      "[WDM] - Get LATEST chromedriver version for 102.0.5005 google-chrome\n",
      "[WDM] - Driver [C:\\Users\\Paris\\.wdm\\drivers\\chromedriver\\win32\\102.0.5005.61\\chromedriver.exe] found in cache\n",
      "C:\\Users\\Paris\\AppData\\Local\\Temp\\ipykernel_5576\\794677937.py:2: DeprecationWarning: executable_path has been deprecated, please pass in a Service object\n",
      "  driver = webdriver.Chrome(ChromeDriverManager().install())\n"
     ]
    }
   ],
   "source": [
    "# Creamos el driver con el que nos vamos a manejar en la sesión de scrapeo:\n",
    "driver = webdriver.Chrome(ChromeDriverManager().install())"
   ]
  },
  {
   "cell_type": "code",
   "execution_count": 3,
   "metadata": {},
   "outputs": [],
   "source": [
    "# indicamos la URL de la página web a la que queremos acceder:\n",
    "url = 'https://exoplanets.nasa.gov/discovery/exoplanet-catalog/'\n",
    "# el objeto driver nos va a permitir alterar el estado del la página\n",
    "driver.get(url)\n",
    "time.sleep(5)"
   ]
  },
  {
   "cell_type": "code",
   "execution_count": 5,
   "metadata": {},
   "outputs": [
    {
     "name": "stderr",
     "output_type": "stream",
     "text": [
      "C:\\Users\\Paris\\AppData\\Local\\Temp\\ipykernel_11644\\1657767747.py:1: DeprecationWarning: find_element_by_xpath is deprecated. Please use find_element(by=By.XPATH, value=xpath) instead\n",
      "  elements_50 = driver.find_element_by_xpath(xpath=\"/html/body/div[2]/div/div[3]/section[2]/div/section[2]/div/div/article/div/div[2]/div[1]/div[2]/div[2]/div/select/option[3]\")\n"
     ]
    }
   ],
   "source": [
    "elements_50 = driver.find_element_by_xpath(xpath=\"/html/body/div[2]/div/div[3]/section[2]/div/section[2]/div/div/article/div/div[2]/div[1]/div[2]/div[2]/div/select/option[3]\")\n",
    "elements_50.click()\n",
    "time.sleep(2)"
   ]
  },
  {
   "cell_type": "markdown",
   "metadata": {},
   "source": [
    "# Web Scraping "
   ]
  },
  {
   "cell_type": "code",
   "execution_count": 6,
   "metadata": {},
   "outputs": [
    {
     "name": "stderr",
     "output_type": "stream",
     "text": [
      "C:\\Users\\Paris\\AppData\\Local\\Temp\\ipykernel_11644\\3382208279.py:31: DeprecationWarning: find_element_by_xpath is deprecated. Please use find_element(by=By.XPATH, value=xpath) instead\n",
      "  loadMore = driver.find_element_by_xpath(xpath=\"/html/body/div[2]/div/div[3]/section[2]/div/section[2]/div/div/article/div/div[2]/footer/div/div/div/nav/span[2]/a\")\n"
     ]
    }
   ],
   "source": [
    "masses = []\n",
    "distances = []\n",
    "years = []\n",
    "names = []\n",
    "stellars = []\n",
    "planet_links = []\n",
    "\n",
    "for i in range(int(np.ceil(5030/50))):\n",
    "\tsoup = bs(driver.page_source,\"lxml\")\n",
    "\texo_names = soup.select(\"div.datasearch ul.exoplanet li.display_name\")\n",
    "\texo_years = soup.select(\"div.datasearch ul.exoplanet li.discovery_date\")\n",
    "\texo_distances = soup.select(\"div.datasearch ul.exoplanet li.st_dist\")\n",
    "\texo_masses = soup.select(\"div.datasearch ul.exoplanet li.mass_display\")\n",
    "\texo_stellars = soup.select(\"div.datasearch ul.exoplanet li.st_optmag\")\n",
    "\tlinks = soup.select(\"ul.exoplanet li.display_name a\")\n",
    "\n",
    "\tfor name in exo_names: \n",
    "\t\tnames.append(name.get_text())\n",
    "\tfor year in exo_years: \n",
    "\t\tyears.append(year.get_text())\n",
    "\tfor distance in exo_distances: \n",
    "\t\tdistances.append(distance.get_text())\n",
    "\tfor mass in exo_masses: \n",
    "\t\tmasses.append(mass.get_text())\n",
    "\tfor stellar in exo_stellars: \n",
    "\t\tstellars.append(stellar.get_text())\n",
    "\tfor link in links:\n",
    "\t\tplanet_links.append('https://exoplanets.nasa.gov' + link.attrs['href'])\n",
    "\t\t\n",
    "\n",
    "\tloadMore = driver.find_element_by_xpath(xpath=\"/html/body/div[2]/div/div[3]/section[2]/div/section[2]/div/div/article/div/div[2]/footer/div/div/div/nav/span[2]/a\")\n",
    "\tloadMore.click()\n",
    "\ttime.sleep(2)"
   ]
  },
  {
   "cell_type": "code",
   "execution_count": 7,
   "metadata": {},
   "outputs": [],
   "source": [
    "#Create & Save Dataframe"
   ]
  },
  {
   "cell_type": "code",
   "execution_count": 8,
   "metadata": {},
   "outputs": [],
   "source": [
    "exo_links = pd.DataFrame({'links':planet_links})\n",
    "exo_links.to_csv(\"data/raw/exo_links.csv\")"
   ]
  },
  {
   "cell_type": "code",
   "execution_count": 9,
   "metadata": {},
   "outputs": [],
   "source": [
    "data = { \"names\": names,\n",
    "\t\t\"mass\": masses,\n",
    "\t\t\"distance\": distances,\n",
    "\t\t\"discovery_year\": years,\n",
    "\t\t\"stellar_magnitude\": stellars\n",
    "\t\t}\n",
    "df = pd.DataFrame(data)\n",
    "df.to_csv(\"data/raw/test.csv\")"
   ]
  },
  {
   "cell_type": "markdown",
   "metadata": {},
   "source": [
    "# Web Scraping Exoplanets"
   ]
  },
  {
   "cell_type": "code",
   "execution_count": 75,
   "metadata": {},
   "outputs": [],
   "source": [
    "# names = []\n",
    "# date = []\n",
    "type = []\n",
    "radius = []\n",
    "orbital_radius = []\n",
    "orbital_days = []\n",
    "detection_method = []\n",
    "eccentricity = []"
   ]
  },
  {
   "cell_type": "code",
   "execution_count": 76,
   "metadata": {},
   "outputs": [
    {
     "name": "stdout",
     "output_type": "stream",
     "text": [
      "100\n",
      "200\n",
      "300\n",
      "400\n",
      "500\n",
      "600\n",
      "700\n",
      "800\n",
      "900\n"
     ]
    },
    {
     "ename": "KeyboardInterrupt",
     "evalue": "",
     "output_type": "error",
     "traceback": [
      "\u001b[1;31m---------------------------------------------------------------------------\u001b[0m",
      "\u001b[1;31mKeyboardInterrupt\u001b[0m                         Traceback (most recent call last)",
      "\u001b[1;32mc:\\Users\\Paris\\Desktop\\The_Bridge\\3-Machine_Learning\\proyecto ML\\src\\web_scraping.ipynb Cell 14'\u001b[0m in \u001b[0;36m<cell line: 2>\u001b[1;34m()\u001b[0m\n\u001b[0;32m      <a href='vscode-notebook-cell:/c%3A/Users/Paris/Desktop/The_Bridge/3-Machine_Learning/proyecto%20ML/src/web_scraping.ipynb#ch0000013?line=0'>1</a>\u001b[0m i\u001b[39m=\u001b[39m\u001b[39m0\u001b[39m\n\u001b[0;32m      <a href='vscode-notebook-cell:/c%3A/Users/Paris/Desktop/The_Bridge/3-Machine_Learning/proyecto%20ML/src/web_scraping.ipynb#ch0000013?line=1'>2</a>\u001b[0m \u001b[39mfor\u001b[39;00m link \u001b[39min\u001b[39;00m planet_links[\u001b[39mlen\u001b[39m(\u001b[39mtype\u001b[39m):]:\n\u001b[1;32m----> <a href='vscode-notebook-cell:/c%3A/Users/Paris/Desktop/The_Bridge/3-Machine_Learning/proyecto%20ML/src/web_scraping.ipynb#ch0000013?line=2'>3</a>\u001b[0m \tdriver\u001b[39m.\u001b[39;49mget(link)\n\u001b[0;32m      <a href='vscode-notebook-cell:/c%3A/Users/Paris/Desktop/The_Bridge/3-Machine_Learning/proyecto%20ML/src/web_scraping.ipynb#ch0000013?line=3'>4</a>\u001b[0m \ttime\u001b[39m.\u001b[39msleep(\u001b[39m2\u001b[39m)\n\u001b[0;32m      <a href='vscode-notebook-cell:/c%3A/Users/Paris/Desktop/The_Bridge/3-Machine_Learning/proyecto%20ML/src/web_scraping.ipynb#ch0000013?line=4'>5</a>\u001b[0m \tsoup \u001b[39m=\u001b[39m bs(driver\u001b[39m.\u001b[39mpage_source,\u001b[39m\"\u001b[39m\u001b[39mlxml\u001b[39m\u001b[39m\"\u001b[39m)\n",
      "File \u001b[1;32mc:\\Users\\Paris\\anaconda3\\envs\\the_bridge\\lib\\site-packages\\selenium\\webdriver\\remote\\webdriver.py:442\u001b[0m, in \u001b[0;36mWebDriver.get\u001b[1;34m(self, url)\u001b[0m\n\u001b[0;32m    438\u001b[0m \u001b[39mdef\u001b[39;00m \u001b[39mget\u001b[39m(\u001b[39mself\u001b[39m, url: \u001b[39mstr\u001b[39m) \u001b[39m-\u001b[39m\u001b[39m>\u001b[39m \u001b[39mNone\u001b[39;00m:\n\u001b[0;32m    439\u001b[0m     \u001b[39m\"\"\"\u001b[39;00m\n\u001b[0;32m    440\u001b[0m \u001b[39m    Loads a web page in the current browser session.\u001b[39;00m\n\u001b[0;32m    441\u001b[0m \u001b[39m    \"\"\"\u001b[39;00m\n\u001b[1;32m--> 442\u001b[0m     \u001b[39mself\u001b[39;49m\u001b[39m.\u001b[39;49mexecute(Command\u001b[39m.\u001b[39;49mGET, {\u001b[39m'\u001b[39;49m\u001b[39murl\u001b[39;49m\u001b[39m'\u001b[39;49m: url})\n",
      "File \u001b[1;32mc:\\Users\\Paris\\anaconda3\\envs\\the_bridge\\lib\\site-packages\\selenium\\webdriver\\remote\\webdriver.py:428\u001b[0m, in \u001b[0;36mWebDriver.execute\u001b[1;34m(self, driver_command, params)\u001b[0m\n\u001b[0;32m    425\u001b[0m         params[\u001b[39m'\u001b[39m\u001b[39msessionId\u001b[39m\u001b[39m'\u001b[39m] \u001b[39m=\u001b[39m \u001b[39mself\u001b[39m\u001b[39m.\u001b[39msession_id\n\u001b[0;32m    427\u001b[0m params \u001b[39m=\u001b[39m \u001b[39mself\u001b[39m\u001b[39m.\u001b[39m_wrap_value(params)\n\u001b[1;32m--> 428\u001b[0m response \u001b[39m=\u001b[39m \u001b[39mself\u001b[39;49m\u001b[39m.\u001b[39;49mcommand_executor\u001b[39m.\u001b[39;49mexecute(driver_command, params)\n\u001b[0;32m    429\u001b[0m \u001b[39mif\u001b[39;00m response:\n\u001b[0;32m    430\u001b[0m     \u001b[39mself\u001b[39m\u001b[39m.\u001b[39merror_handler\u001b[39m.\u001b[39mcheck_response(response)\n",
      "File \u001b[1;32mc:\\Users\\Paris\\anaconda3\\envs\\the_bridge\\lib\\site-packages\\selenium\\webdriver\\remote\\remote_connection.py:347\u001b[0m, in \u001b[0;36mRemoteConnection.execute\u001b[1;34m(self, command, params)\u001b[0m\n\u001b[0;32m    345\u001b[0m data \u001b[39m=\u001b[39m utils\u001b[39m.\u001b[39mdump_json(params)\n\u001b[0;32m    346\u001b[0m url \u001b[39m=\u001b[39m \u001b[39mf\u001b[39m\u001b[39m\"\u001b[39m\u001b[39m{\u001b[39;00m\u001b[39mself\u001b[39m\u001b[39m.\u001b[39m_url\u001b[39m}\u001b[39;00m\u001b[39m{\u001b[39;00mpath\u001b[39m}\u001b[39;00m\u001b[39m\"\u001b[39m\n\u001b[1;32m--> 347\u001b[0m \u001b[39mreturn\u001b[39;00m \u001b[39mself\u001b[39;49m\u001b[39m.\u001b[39;49m_request(command_info[\u001b[39m0\u001b[39;49m], url, body\u001b[39m=\u001b[39;49mdata)\n",
      "File \u001b[1;32mc:\\Users\\Paris\\anaconda3\\envs\\the_bridge\\lib\\site-packages\\selenium\\webdriver\\remote\\remote_connection.py:369\u001b[0m, in \u001b[0;36mRemoteConnection._request\u001b[1;34m(self, method, url, body)\u001b[0m\n\u001b[0;32m    366\u001b[0m     body \u001b[39m=\u001b[39m \u001b[39mNone\u001b[39;00m\n\u001b[0;32m    368\u001b[0m \u001b[39mif\u001b[39;00m \u001b[39mself\u001b[39m\u001b[39m.\u001b[39mkeep_alive:\n\u001b[1;32m--> 369\u001b[0m     response \u001b[39m=\u001b[39m \u001b[39mself\u001b[39;49m\u001b[39m.\u001b[39;49m_conn\u001b[39m.\u001b[39;49mrequest(method, url, body\u001b[39m=\u001b[39;49mbody, headers\u001b[39m=\u001b[39;49mheaders)\n\u001b[0;32m    370\u001b[0m     statuscode \u001b[39m=\u001b[39m response\u001b[39m.\u001b[39mstatus\n\u001b[0;32m    371\u001b[0m \u001b[39melse\u001b[39;00m:\n",
      "File \u001b[1;32mc:\\Users\\Paris\\anaconda3\\envs\\the_bridge\\lib\\site-packages\\urllib3\\request.py:78\u001b[0m, in \u001b[0;36mRequestMethods.request\u001b[1;34m(self, method, url, fields, headers, **urlopen_kw)\u001b[0m\n\u001b[0;32m     74\u001b[0m     \u001b[39mreturn\u001b[39;00m \u001b[39mself\u001b[39m\u001b[39m.\u001b[39mrequest_encode_url(\n\u001b[0;32m     75\u001b[0m         method, url, fields\u001b[39m=\u001b[39mfields, headers\u001b[39m=\u001b[39mheaders, \u001b[39m*\u001b[39m\u001b[39m*\u001b[39murlopen_kw\n\u001b[0;32m     76\u001b[0m     )\n\u001b[0;32m     77\u001b[0m \u001b[39melse\u001b[39;00m:\n\u001b[1;32m---> 78\u001b[0m     \u001b[39mreturn\u001b[39;00m \u001b[39mself\u001b[39m\u001b[39m.\u001b[39mrequest_encode_body(\n\u001b[0;32m     79\u001b[0m         method, url, fields\u001b[39m=\u001b[39mfields, headers\u001b[39m=\u001b[39mheaders, \u001b[39m*\u001b[39m\u001b[39m*\u001b[39murlopen_kw\n\u001b[0;32m     80\u001b[0m     )\n",
      "File \u001b[1;32mc:\\Users\\Paris\\anaconda3\\envs\\the_bridge\\lib\\site-packages\\urllib3\\request.py:170\u001b[0m, in \u001b[0;36mRequestMethods.request_encode_body\u001b[1;34m(self, method, url, fields, headers, encode_multipart, multipart_boundary, **urlopen_kw)\u001b[0m\n\u001b[0;32m    167\u001b[0m extra_kw[\u001b[39m\"\u001b[39m\u001b[39mheaders\u001b[39m\u001b[39m\"\u001b[39m]\u001b[39m.\u001b[39mupdate(headers)\n\u001b[0;32m    168\u001b[0m extra_kw\u001b[39m.\u001b[39mupdate(urlopen_kw)\n\u001b[1;32m--> 170\u001b[0m \u001b[39mreturn\u001b[39;00m \u001b[39mself\u001b[39m\u001b[39m.\u001b[39murlopen(method, url, \u001b[39m*\u001b[39m\u001b[39m*\u001b[39mextra_kw)\n",
      "File \u001b[1;32mc:\\Users\\Paris\\anaconda3\\envs\\the_bridge\\lib\\site-packages\\urllib3\\poolmanager.py:376\u001b[0m, in \u001b[0;36mPoolManager.urlopen\u001b[1;34m(self, method, url, redirect, **kw)\u001b[0m\n\u001b[0;32m    374\u001b[0m     response \u001b[39m=\u001b[39m conn\u001b[39m.\u001b[39murlopen(method, url, \u001b[39m*\u001b[39m\u001b[39m*\u001b[39mkw)\n\u001b[0;32m    375\u001b[0m \u001b[39melse\u001b[39;00m:\n\u001b[1;32m--> 376\u001b[0m     response \u001b[39m=\u001b[39m conn\u001b[39m.\u001b[39murlopen(method, u\u001b[39m.\u001b[39mrequest_uri, \u001b[39m*\u001b[39m\u001b[39m*\u001b[39mkw)\n\u001b[0;32m    378\u001b[0m redirect_location \u001b[39m=\u001b[39m redirect \u001b[39mand\u001b[39;00m response\u001b[39m.\u001b[39mget_redirect_location()\n\u001b[0;32m    379\u001b[0m \u001b[39mif\u001b[39;00m \u001b[39mnot\u001b[39;00m redirect_location:\n",
      "File \u001b[1;32mc:\\Users\\Paris\\anaconda3\\envs\\the_bridge\\lib\\site-packages\\urllib3\\connectionpool.py:703\u001b[0m, in \u001b[0;36mHTTPConnectionPool.urlopen\u001b[1;34m(self, method, url, body, headers, retries, redirect, assert_same_host, timeout, pool_timeout, release_conn, chunked, body_pos, **response_kw)\u001b[0m\n\u001b[0;32m    700\u001b[0m     \u001b[39mself\u001b[39m\u001b[39m.\u001b[39m_prepare_proxy(conn)\n\u001b[0;32m    702\u001b[0m \u001b[39m# Make the request on the httplib connection object.\u001b[39;00m\n\u001b[1;32m--> 703\u001b[0m httplib_response \u001b[39m=\u001b[39m \u001b[39mself\u001b[39;49m\u001b[39m.\u001b[39;49m_make_request(\n\u001b[0;32m    704\u001b[0m     conn,\n\u001b[0;32m    705\u001b[0m     method,\n\u001b[0;32m    706\u001b[0m     url,\n\u001b[0;32m    707\u001b[0m     timeout\u001b[39m=\u001b[39;49mtimeout_obj,\n\u001b[0;32m    708\u001b[0m     body\u001b[39m=\u001b[39;49mbody,\n\u001b[0;32m    709\u001b[0m     headers\u001b[39m=\u001b[39;49mheaders,\n\u001b[0;32m    710\u001b[0m     chunked\u001b[39m=\u001b[39;49mchunked,\n\u001b[0;32m    711\u001b[0m )\n\u001b[0;32m    713\u001b[0m \u001b[39m# If we're going to release the connection in ``finally:``, then\u001b[39;00m\n\u001b[0;32m    714\u001b[0m \u001b[39m# the response doesn't need to know about the connection. Otherwise\u001b[39;00m\n\u001b[0;32m    715\u001b[0m \u001b[39m# it will also try to release it and we'll have a double-release\u001b[39;00m\n\u001b[0;32m    716\u001b[0m \u001b[39m# mess.\u001b[39;00m\n\u001b[0;32m    717\u001b[0m response_conn \u001b[39m=\u001b[39m conn \u001b[39mif\u001b[39;00m \u001b[39mnot\u001b[39;00m release_conn \u001b[39melse\u001b[39;00m \u001b[39mNone\u001b[39;00m\n",
      "File \u001b[1;32mc:\\Users\\Paris\\anaconda3\\envs\\the_bridge\\lib\\site-packages\\urllib3\\connectionpool.py:449\u001b[0m, in \u001b[0;36mHTTPConnectionPool._make_request\u001b[1;34m(self, conn, method, url, timeout, chunked, **httplib_request_kw)\u001b[0m\n\u001b[0;32m    444\u001b[0m             httplib_response \u001b[39m=\u001b[39m conn\u001b[39m.\u001b[39mgetresponse()\n\u001b[0;32m    445\u001b[0m         \u001b[39mexcept\u001b[39;00m \u001b[39mBaseException\u001b[39;00m \u001b[39mas\u001b[39;00m e:\n\u001b[0;32m    446\u001b[0m             \u001b[39m# Remove the TypeError from the exception chain in\u001b[39;00m\n\u001b[0;32m    447\u001b[0m             \u001b[39m# Python 3 (including for exceptions like SystemExit).\u001b[39;00m\n\u001b[0;32m    448\u001b[0m             \u001b[39m# Otherwise it looks like a bug in the code.\u001b[39;00m\n\u001b[1;32m--> 449\u001b[0m             six\u001b[39m.\u001b[39;49mraise_from(e, \u001b[39mNone\u001b[39;49;00m)\n\u001b[0;32m    450\u001b[0m \u001b[39mexcept\u001b[39;00m (SocketTimeout, BaseSSLError, SocketError) \u001b[39mas\u001b[39;00m e:\n\u001b[0;32m    451\u001b[0m     \u001b[39mself\u001b[39m\u001b[39m.\u001b[39m_raise_timeout(err\u001b[39m=\u001b[39me, url\u001b[39m=\u001b[39murl, timeout_value\u001b[39m=\u001b[39mread_timeout)\n",
      "File \u001b[1;32m<string>:3\u001b[0m, in \u001b[0;36mraise_from\u001b[1;34m(value, from_value)\u001b[0m\n",
      "File \u001b[1;32mc:\\Users\\Paris\\anaconda3\\envs\\the_bridge\\lib\\site-packages\\urllib3\\connectionpool.py:444\u001b[0m, in \u001b[0;36mHTTPConnectionPool._make_request\u001b[1;34m(self, conn, method, url, timeout, chunked, **httplib_request_kw)\u001b[0m\n\u001b[0;32m    441\u001b[0m \u001b[39mexcept\u001b[39;00m \u001b[39mTypeError\u001b[39;00m:\n\u001b[0;32m    442\u001b[0m     \u001b[39m# Python 3\u001b[39;00m\n\u001b[0;32m    443\u001b[0m     \u001b[39mtry\u001b[39;00m:\n\u001b[1;32m--> 444\u001b[0m         httplib_response \u001b[39m=\u001b[39m conn\u001b[39m.\u001b[39;49mgetresponse()\n\u001b[0;32m    445\u001b[0m     \u001b[39mexcept\u001b[39;00m \u001b[39mBaseException\u001b[39;00m \u001b[39mas\u001b[39;00m e:\n\u001b[0;32m    446\u001b[0m         \u001b[39m# Remove the TypeError from the exception chain in\u001b[39;00m\n\u001b[0;32m    447\u001b[0m         \u001b[39m# Python 3 (including for exceptions like SystemExit).\u001b[39;00m\n\u001b[0;32m    448\u001b[0m         \u001b[39m# Otherwise it looks like a bug in the code.\u001b[39;00m\n\u001b[0;32m    449\u001b[0m         six\u001b[39m.\u001b[39mraise_from(e, \u001b[39mNone\u001b[39;00m)\n",
      "File \u001b[1;32mc:\\Users\\Paris\\anaconda3\\envs\\the_bridge\\lib\\http\\client.py:1377\u001b[0m, in \u001b[0;36mHTTPConnection.getresponse\u001b[1;34m(self)\u001b[0m\n\u001b[0;32m   1375\u001b[0m \u001b[39mtry\u001b[39;00m:\n\u001b[0;32m   1376\u001b[0m     \u001b[39mtry\u001b[39;00m:\n\u001b[1;32m-> 1377\u001b[0m         response\u001b[39m.\u001b[39;49mbegin()\n\u001b[0;32m   1378\u001b[0m     \u001b[39mexcept\u001b[39;00m \u001b[39mConnectionError\u001b[39;00m:\n\u001b[0;32m   1379\u001b[0m         \u001b[39mself\u001b[39m\u001b[39m.\u001b[39mclose()\n",
      "File \u001b[1;32mc:\\Users\\Paris\\anaconda3\\envs\\the_bridge\\lib\\http\\client.py:320\u001b[0m, in \u001b[0;36mHTTPResponse.begin\u001b[1;34m(self)\u001b[0m\n\u001b[0;32m    318\u001b[0m \u001b[39m# read until we get a non-100 response\u001b[39;00m\n\u001b[0;32m    319\u001b[0m \u001b[39mwhile\u001b[39;00m \u001b[39mTrue\u001b[39;00m:\n\u001b[1;32m--> 320\u001b[0m     version, status, reason \u001b[39m=\u001b[39m \u001b[39mself\u001b[39;49m\u001b[39m.\u001b[39;49m_read_status()\n\u001b[0;32m    321\u001b[0m     \u001b[39mif\u001b[39;00m status \u001b[39m!=\u001b[39m CONTINUE:\n\u001b[0;32m    322\u001b[0m         \u001b[39mbreak\u001b[39;00m\n",
      "File \u001b[1;32mc:\\Users\\Paris\\anaconda3\\envs\\the_bridge\\lib\\http\\client.py:281\u001b[0m, in \u001b[0;36mHTTPResponse._read_status\u001b[1;34m(self)\u001b[0m\n\u001b[0;32m    280\u001b[0m \u001b[39mdef\u001b[39;00m \u001b[39m_read_status\u001b[39m(\u001b[39mself\u001b[39m):\n\u001b[1;32m--> 281\u001b[0m     line \u001b[39m=\u001b[39m \u001b[39mstr\u001b[39m(\u001b[39mself\u001b[39;49m\u001b[39m.\u001b[39;49mfp\u001b[39m.\u001b[39;49mreadline(_MAXLINE \u001b[39m+\u001b[39;49m \u001b[39m1\u001b[39;49m), \u001b[39m\"\u001b[39m\u001b[39miso-8859-1\u001b[39m\u001b[39m\"\u001b[39m)\n\u001b[0;32m    282\u001b[0m     \u001b[39mif\u001b[39;00m \u001b[39mlen\u001b[39m(line) \u001b[39m>\u001b[39m _MAXLINE:\n\u001b[0;32m    283\u001b[0m         \u001b[39mraise\u001b[39;00m LineTooLong(\u001b[39m\"\u001b[39m\u001b[39mstatus line\u001b[39m\u001b[39m\"\u001b[39m)\n",
      "File \u001b[1;32mc:\\Users\\Paris\\anaconda3\\envs\\the_bridge\\lib\\socket.py:704\u001b[0m, in \u001b[0;36mSocketIO.readinto\u001b[1;34m(self, b)\u001b[0m\n\u001b[0;32m    702\u001b[0m \u001b[39mwhile\u001b[39;00m \u001b[39mTrue\u001b[39;00m:\n\u001b[0;32m    703\u001b[0m     \u001b[39mtry\u001b[39;00m:\n\u001b[1;32m--> 704\u001b[0m         \u001b[39mreturn\u001b[39;00m \u001b[39mself\u001b[39;49m\u001b[39m.\u001b[39;49m_sock\u001b[39m.\u001b[39;49mrecv_into(b)\n\u001b[0;32m    705\u001b[0m     \u001b[39mexcept\u001b[39;00m timeout:\n\u001b[0;32m    706\u001b[0m         \u001b[39mself\u001b[39m\u001b[39m.\u001b[39m_timeout_occurred \u001b[39m=\u001b[39m \u001b[39mTrue\u001b[39;00m\n",
      "\u001b[1;31mKeyboardInterrupt\u001b[0m: "
     ]
    }
   ],
   "source": [
    "i=0\n",
    "for link in planet_links[len(type):]:\n",
    "\tdriver.get(link)\n",
    "\ttime.sleep(2)\n",
    "\tsoup = bs(driver.page_source,\"lxml\")\n",
    "\texo_data = soup.select(\"table.information_grid div.value\")\n",
    "\t# name = soup.select(\"h1.article_title\")\n",
    "\t# names.append(name[0].get_text().split('\\n')[1])\n",
    "\ttype.append(exo_data[0].get_text().split('\\n')[1])\n",
    "\tradius.append(exo_data[3].get_text().split('\\n')[1])\n",
    "\torbital_radius.append(exo_data[4].get_text().split('\\n')[1].split(' ')[0])\n",
    "\torbital_days.append(exo_data[5].get_text().split('\\n')[1].split(' ')[0])\n",
    "\teccentricity.append(exo_data[6].get_text().split('\\n')[1])\n",
    "\tdetection_method.append(exo_data[7].get_text().split('\\n')[1])\n",
    "\ti += 1\n",
    "\tif i%100 == 0:\n",
    "\t\tprint(i)"
   ]
  },
  {
   "cell_type": "code",
   "execution_count": null,
   "metadata": {},
   "outputs": [],
   "source": [
    "#Save data on csv"
   ]
  },
  {
   "cell_type": "code",
   "execution_count": 77,
   "metadata": {},
   "outputs": [],
   "source": [
    "nasa_catalog = pd.DataFrame({'planet_type':type,\n",
    "\t\t\t\t\t\t\t'radius':radius,\n",
    "\t\t\t\t\t\t\t'orbital_radius':orbital_radius,\n",
    "\t\t\t\t\t\t\t'orbital_days':orbital_days,\n",
    "\t\t\t\t\t\t\t'eccentricity':eccentricity,\n",
    "\t\t\t\t\t\t\t'detection_method':detection_method})"
   ]
  },
  {
   "cell_type": "code",
   "execution_count": 78,
   "metadata": {},
   "outputs": [],
   "source": [
    "nasa_catalog.to_csv(\"data/raw/test_2.csv\")"
   ]
  },
  {
   "cell_type": "code",
   "execution_count": null,
   "metadata": {},
   "outputs": [],
   "source": [
    "#Load data from csv"
   ]
  },
  {
   "cell_type": "code",
   "execution_count": 33,
   "metadata": {},
   "outputs": [],
   "source": [
    "nasa_catalog = pd.read_csv(\"data/raw/test_2.csv\", index_col=0)"
   ]
  },
  {
   "cell_type": "code",
   "execution_count": 10,
   "metadata": {},
   "outputs": [],
   "source": [
    "type = list(nasa_catalog.planet_type)\n",
    "radius = list(nasa_catalog.radius)\n",
    "orbital_radius = list(nasa_catalog.orbital_radius)\n",
    "orbital_days = list(nasa_catalog.orbital_days)\n",
    "detection_method = list(nasa_catalog.detection_method)\n",
    "eccentricity = list(nasa_catalog.eccentricity)"
   ]
  },
  {
   "cell_type": "code",
   "execution_count": 72,
   "metadata": {},
   "outputs": [],
   "source": [
    "#Load planet_links\n",
    "df_planets = pd.read_csv(\"data/raw/exo_links.csv\", index_col=0)\n",
    "planet_links = list(df_planets.links)"
   ]
  },
  {
   "cell_type": "code",
   "execution_count": null,
   "metadata": {},
   "outputs": [],
   "source": [
    "df_planet_links = pd.read_csv(\"data/raw/exo_links.csv\", index_col=0)\n",
    "planet_links = list(df_planet_links.links)"
   ]
  },
  {
   "cell_type": "code",
   "execution_count": 4,
   "metadata": {},
   "outputs": [],
   "source": [
    "df_1 = pd.read_csv(\"data/raw/exo_links.csv\", index_col=0)\n",
    "df_2 = pd.read_csv(\"data/raw/exo_links_old.csv\", index_col=0)"
   ]
  },
  {
   "cell_type": "code",
   "execution_count": 5,
   "metadata": {},
   "outputs": [],
   "source": [
    "a = df_1.links.values"
   ]
  },
  {
   "cell_type": "code",
   "execution_count": 6,
   "metadata": {},
   "outputs": [],
   "source": [
    "b = df_2.links.values"
   ]
  },
  {
   "cell_type": "code",
   "execution_count": 12,
   "metadata": {},
   "outputs": [],
   "source": [
    "planet_links = list(set(a) - set(b))"
   ]
  },
  {
   "cell_type": "code",
   "execution_count": 48,
   "metadata": {},
   "outputs": [],
   "source": [
    "nasa_catalog.Date = nasa_catalog.Date.astype(int)"
   ]
  },
  {
   "cell_type": "code",
   "execution_count": 51,
   "metadata": {},
   "outputs": [
    {
     "data": {
      "text/html": [
       "<div>\n",
       "<style scoped>\n",
       "    .dataframe tbody tr th:only-of-type {\n",
       "        vertical-align: middle;\n",
       "    }\n",
       "\n",
       "    .dataframe tbody tr th {\n",
       "        vertical-align: top;\n",
       "    }\n",
       "\n",
       "    .dataframe thead th {\n",
       "        text-align: right;\n",
       "    }\n",
       "</style>\n",
       "<table border=\"1\" class=\"dataframe\">\n",
       "  <thead>\n",
       "    <tr style=\"text-align: right;\">\n",
       "      <th></th>\n",
       "      <th>planet_type</th>\n",
       "      <th>radius</th>\n",
       "      <th>orbital_radius</th>\n",
       "      <th>orbital_days</th>\n",
       "      <th>eccentricity</th>\n",
       "      <th>detection_method</th>\n",
       "      <th>Date</th>\n",
       "    </tr>\n",
       "  </thead>\n",
       "  <tbody>\n",
       "    <tr>\n",
       "      <th>11</th>\n",
       "      <td>Neptune-like</td>\n",
       "      <td>0.332 x Jupiter(estimate)</td>\n",
       "      <td>Unknown</td>\n",
       "      <td>124.6</td>\n",
       "      <td>0.22</td>\n",
       "      <td>Radial Velocity</td>\n",
       "      <td>2022</td>\n",
       "    </tr>\n",
       "    <tr>\n",
       "      <th>23</th>\n",
       "      <td>Gas Giant</td>\n",
       "      <td>1.2 x Jupiter(estimate)</td>\n",
       "      <td>Unknown</td>\n",
       "      <td>43</td>\n",
       "      <td>0.0</td>\n",
       "      <td>Eclipse Timing Variations</td>\n",
       "      <td>2022</td>\n",
       "    </tr>\n",
       "    <tr>\n",
       "      <th>34</th>\n",
       "      <td>Gas Giant</td>\n",
       "      <td>1.3 x Jupiter</td>\n",
       "      <td>Unknown</td>\n",
       "      <td>2.1</td>\n",
       "      <td>0.0</td>\n",
       "      <td>Transit</td>\n",
       "      <td>2022</td>\n",
       "    </tr>\n",
       "    <tr>\n",
       "      <th>84</th>\n",
       "      <td>Super Earth</td>\n",
       "      <td>1.83 x Earth(estimate)</td>\n",
       "      <td>0.05366</td>\n",
       "      <td>10.8</td>\n",
       "      <td>0.33</td>\n",
       "      <td>Radial Velocity</td>\n",
       "      <td>2022</td>\n",
       "    </tr>\n",
       "    <tr>\n",
       "      <th>97</th>\n",
       "      <td>Neptune-like</td>\n",
       "      <td>1.85 x Earth</td>\n",
       "      <td>0.0182</td>\n",
       "      <td>1</td>\n",
       "      <td>0.13</td>\n",
       "      <td>Transit</td>\n",
       "      <td>2022</td>\n",
       "    </tr>\n",
       "    <tr>\n",
       "      <th>131</th>\n",
       "      <td>Gas Giant</td>\n",
       "      <td>1.44 x Jupiter</td>\n",
       "      <td>Unknown</td>\n",
       "      <td>1.5</td>\n",
       "      <td>0.0</td>\n",
       "      <td>Transit</td>\n",
       "      <td>2022</td>\n",
       "    </tr>\n",
       "    <tr>\n",
       "      <th>140</th>\n",
       "      <td>Neptune-like</td>\n",
       "      <td>0.215 x Jupiter(estimate)</td>\n",
       "      <td>1.8</td>\n",
       "      <td>7.6</td>\n",
       "      <td>0.0</td>\n",
       "      <td>Gravitational Microlensing</td>\n",
       "      <td>2022</td>\n",
       "    </tr>\n",
       "    <tr>\n",
       "      <th>149</th>\n",
       "      <td>Gas Giant</td>\n",
       "      <td>1.322 x Jupiter</td>\n",
       "      <td>0.0467</td>\n",
       "      <td>3.7</td>\n",
       "      <td>0.0</td>\n",
       "      <td>Transit</td>\n",
       "      <td>2022</td>\n",
       "    </tr>\n",
       "    <tr>\n",
       "      <th>153</th>\n",
       "      <td>Gas Giant</td>\n",
       "      <td>1.36 x Jupiter</td>\n",
       "      <td>Unknown</td>\n",
       "      <td>2.1</td>\n",
       "      <td>0.0</td>\n",
       "      <td>Transit</td>\n",
       "      <td>2022</td>\n",
       "    </tr>\n",
       "    <tr>\n",
       "      <th>156</th>\n",
       "      <td>Gas Giant</td>\n",
       "      <td>1.3 x Jupiter</td>\n",
       "      <td>0.0561</td>\n",
       "      <td>4.1</td>\n",
       "      <td>0.03</td>\n",
       "      <td>Transit</td>\n",
       "      <td>2022</td>\n",
       "    </tr>\n",
       "    <tr>\n",
       "      <th>159</th>\n",
       "      <td>Gas Giant</td>\n",
       "      <td>1.09 x Jupiter(estimate)</td>\n",
       "      <td>242.4</td>\n",
       "      <td>1251.8</td>\n",
       "      <td>0.56</td>\n",
       "      <td>Direct Imaging</td>\n",
       "      <td>2022</td>\n",
       "    </tr>\n",
       "    <tr>\n",
       "      <th>167</th>\n",
       "      <td>Gas Giant</td>\n",
       "      <td>1.21 x Jupiter(estimate)</td>\n",
       "      <td>8.0</td>\n",
       "      <td>22.6</td>\n",
       "      <td>0.76</td>\n",
       "      <td>Radial Velocity</td>\n",
       "      <td>2022</td>\n",
       "    </tr>\n",
       "    <tr>\n",
       "      <th>187</th>\n",
       "      <td>Gas Giant</td>\n",
       "      <td>1.229 x Jupiter</td>\n",
       "      <td>0.04047</td>\n",
       "      <td>3.1</td>\n",
       "      <td>0.0</td>\n",
       "      <td>Transit</td>\n",
       "      <td>2022</td>\n",
       "    </tr>\n",
       "    <tr>\n",
       "      <th>189</th>\n",
       "      <td>Super Earth</td>\n",
       "      <td>2.199 x Earth</td>\n",
       "      <td>0.1357</td>\n",
       "      <td>22.9</td>\n",
       "      <td>&lt; 0.3307</td>\n",
       "      <td>Transit</td>\n",
       "      <td>2022</td>\n",
       "    </tr>\n",
       "    <tr>\n",
       "      <th>197</th>\n",
       "      <td>Neptune-like</td>\n",
       "      <td>0.29 x Jupiter</td>\n",
       "      <td>0.411</td>\n",
       "      <td>84.3</td>\n",
       "      <td>&lt; 0.0864</td>\n",
       "      <td>Transit</td>\n",
       "      <td>2022</td>\n",
       "    </tr>\n",
       "    <tr>\n",
       "      <th>198</th>\n",
       "      <td>Neptune-like</td>\n",
       "      <td>0.377 x Jupiter</td>\n",
       "      <td>0.308</td>\n",
       "      <td>56</td>\n",
       "      <td>&lt; 0.1203</td>\n",
       "      <td>Transit</td>\n",
       "      <td>2022</td>\n",
       "    </tr>\n",
       "    <tr>\n",
       "      <th>199</th>\n",
       "      <td>Gas Giant</td>\n",
       "      <td>1.21 x Jupiter(estimate)</td>\n",
       "      <td>Unknown</td>\n",
       "      <td>4</td>\n",
       "      <td>0.29</td>\n",
       "      <td>Eclipse Timing Variations</td>\n",
       "      <td>2022</td>\n",
       "    </tr>\n",
       "    <tr>\n",
       "      <th>208</th>\n",
       "      <td>Gas Giant</td>\n",
       "      <td>1.25 x Jupiter(estimate)</td>\n",
       "      <td>3.053</td>\n",
       "      <td>5.3</td>\n",
       "      <td>0.53</td>\n",
       "      <td>Radial Velocity</td>\n",
       "      <td>2022</td>\n",
       "    </tr>\n",
       "  </tbody>\n",
       "</table>\n",
       "</div>"
      ],
      "text/plain": [
       "      planet_type                     radius orbital_radius orbital_days  \\\n",
       "11   Neptune-like  0.332 x Jupiter(estimate)        Unknown        124.6   \n",
       "23      Gas Giant    1.2 x Jupiter(estimate)        Unknown           43   \n",
       "34      Gas Giant              1.3 x Jupiter        Unknown          2.1   \n",
       "84    Super Earth     1.83 x Earth(estimate)        0.05366         10.8   \n",
       "97   Neptune-like               1.85 x Earth         0.0182            1   \n",
       "131     Gas Giant             1.44 x Jupiter        Unknown          1.5   \n",
       "140  Neptune-like  0.215 x Jupiter(estimate)            1.8          7.6   \n",
       "149     Gas Giant            1.322 x Jupiter         0.0467          3.7   \n",
       "153     Gas Giant             1.36 x Jupiter        Unknown          2.1   \n",
       "156     Gas Giant              1.3 x Jupiter         0.0561          4.1   \n",
       "159     Gas Giant   1.09 x Jupiter(estimate)          242.4       1251.8   \n",
       "167     Gas Giant   1.21 x Jupiter(estimate)            8.0         22.6   \n",
       "187     Gas Giant            1.229 x Jupiter        0.04047          3.1   \n",
       "189   Super Earth              2.199 x Earth         0.1357         22.9   \n",
       "197  Neptune-like             0.29 x Jupiter          0.411         84.3   \n",
       "198  Neptune-like            0.377 x Jupiter          0.308           56   \n",
       "199     Gas Giant   1.21 x Jupiter(estimate)        Unknown            4   \n",
       "208     Gas Giant   1.25 x Jupiter(estimate)          3.053          5.3   \n",
       "\n",
       "    eccentricity            detection_method  Date  \n",
       "11          0.22             Radial Velocity  2022  \n",
       "23           0.0   Eclipse Timing Variations  2022  \n",
       "34           0.0                     Transit  2022  \n",
       "84          0.33             Radial Velocity  2022  \n",
       "97          0.13                     Transit  2022  \n",
       "131          0.0                     Transit  2022  \n",
       "140          0.0  Gravitational Microlensing  2022  \n",
       "149          0.0                     Transit  2022  \n",
       "153          0.0                     Transit  2022  \n",
       "156         0.03                     Transit  2022  \n",
       "159         0.56              Direct Imaging  2022  \n",
       "167         0.76             Radial Velocity  2022  \n",
       "187          0.0                     Transit  2022  \n",
       "189     < 0.3307                     Transit  2022  \n",
       "197     < 0.0864                     Transit  2022  \n",
       "198     < 0.1203                     Transit  2022  \n",
       "199         0.29   Eclipse Timing Variations  2022  \n",
       "208         0.53             Radial Velocity  2022  "
      ]
     },
     "execution_count": 51,
     "metadata": {},
     "output_type": "execute_result"
    }
   ],
   "source": [
    "nasa_catalog[nasa_catalog.Date == 2022]"
   ]
  },
  {
   "cell_type": "code",
   "execution_count": 61,
   "metadata": {},
   "outputs": [
    {
     "data": {
      "text/plain": [
       "'OGLE-2018-BLG-0596L b'"
      ]
     },
     "execution_count": 61,
     "metadata": {},
     "output_type": "execute_result"
    }
   ],
   "source": [
    "name = soup.select(\"h1.article_title\")\n",
    "names.append(name[0].get_text().split('\\n')[1])"
   ]
  }
 ],
 "metadata": {
  "kernelspec": {
   "display_name": "Python 3.9.12 ('the_bridge')",
   "language": "python",
   "name": "python3"
  },
  "language_info": {
   "codemirror_mode": {
    "name": "ipython",
    "version": 3
   },
   "file_extension": ".py",
   "mimetype": "text/x-python",
   "name": "python",
   "nbconvert_exporter": "python",
   "pygments_lexer": "ipython3",
   "version": "3.9.12"
  },
  "orig_nbformat": 4,
  "vscode": {
   "interpreter": {
    "hash": "4bf612fd9f670b4cbe581c743168f3e65e97abe2c4dc839c108fa6dc9b2daabc"
   }
  }
 },
 "nbformat": 4,
 "nbformat_minor": 2
}
