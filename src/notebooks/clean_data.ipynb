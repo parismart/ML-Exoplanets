{
 "cells": [
  {
   "cell_type": "markdown",
   "metadata": {},
   "source": [
    "## Comencemos importando las bibliotecas que usaremos:"
   ]
  },
  {
   "cell_type": "code",
   "execution_count": 1,
   "metadata": {},
   "outputs": [],
   "source": [
    "import seaborn as sns\n",
    "import matplotlib.pyplot as plt\n",
    "import pandas as pd\n",
    "import numpy as np"
   ]
  },
  {
   "cell_type": "code",
   "execution_count": 2,
   "metadata": {},
   "outputs": [],
   "source": [
    "#Load data from csv"
   ]
  },
  {
   "cell_type": "code",
   "execution_count": 3,
   "metadata": {},
   "outputs": [],
   "source": [
    "df = pd.read_csv('../data/raw/raw_1.csv', index_col=0)"
   ]
  },
  {
   "cell_type": "code",
   "execution_count": 4,
   "metadata": {},
   "outputs": [
    {
     "data": {
      "text/html": [
       "<div>\n",
       "<style scoped>\n",
       "    .dataframe tbody tr th:only-of-type {\n",
       "        vertical-align: middle;\n",
       "    }\n",
       "\n",
       "    .dataframe tbody tr th {\n",
       "        vertical-align: top;\n",
       "    }\n",
       "\n",
       "    .dataframe thead th {\n",
       "        text-align: right;\n",
       "    }\n",
       "</style>\n",
       "<table border=\"1\" class=\"dataframe\">\n",
       "  <thead>\n",
       "    <tr style=\"text-align: right;\">\n",
       "      <th></th>\n",
       "      <th>names</th>\n",
       "      <th>mass</th>\n",
       "      <th>distance</th>\n",
       "      <th>discovery_year</th>\n",
       "      <th>stellar_magnitude</th>\n",
       "    </tr>\n",
       "  </thead>\n",
       "  <tbody>\n",
       "    <tr>\n",
       "      <th>0</th>\n",
       "      <td>11 Comae Berenices b</td>\n",
       "      <td>19.4 Jupiters</td>\n",
       "      <td>304.0</td>\n",
       "      <td>2007</td>\n",
       "      <td>4.72307</td>\n",
       "    </tr>\n",
       "    <tr>\n",
       "      <th>1</th>\n",
       "      <td>11 Ursae Minoris b</td>\n",
       "      <td>14.74 Jupiters</td>\n",
       "      <td>409.0</td>\n",
       "      <td>2009</td>\n",
       "      <td>5.01300</td>\n",
       "    </tr>\n",
       "    <tr>\n",
       "      <th>2</th>\n",
       "      <td>14 Andromedae b</td>\n",
       "      <td>4.8 Jupiters</td>\n",
       "      <td>246.0</td>\n",
       "      <td>2008</td>\n",
       "      <td>5.23133</td>\n",
       "    </tr>\n",
       "    <tr>\n",
       "      <th>3</th>\n",
       "      <td>14 Herculis b</td>\n",
       "      <td>4.66 Jupiters</td>\n",
       "      <td>58.0</td>\n",
       "      <td>2002</td>\n",
       "      <td>6.61935</td>\n",
       "    </tr>\n",
       "    <tr>\n",
       "      <th>4</th>\n",
       "      <td>16 Cygni B b</td>\n",
       "      <td>1.78 Jupiters</td>\n",
       "      <td>69.0</td>\n",
       "      <td>1996</td>\n",
       "      <td>6.21500</td>\n",
       "    </tr>\n",
       "    <tr>\n",
       "      <th>...</th>\n",
       "      <td>...</td>\n",
       "      <td>...</td>\n",
       "      <td>...</td>\n",
       "      <td>...</td>\n",
       "      <td>...</td>\n",
       "    </tr>\n",
       "    <tr>\n",
       "      <th>5039</th>\n",
       "      <td>XO-7 b</td>\n",
       "      <td>0.709 Jupiters</td>\n",
       "      <td>764.0</td>\n",
       "      <td>2019</td>\n",
       "      <td>10.52100</td>\n",
       "    </tr>\n",
       "    <tr>\n",
       "      <th>5040</th>\n",
       "      <td>YSES 2 b</td>\n",
       "      <td>6.3 Jupiters</td>\n",
       "      <td>357.0</td>\n",
       "      <td>2021</td>\n",
       "      <td>10.88500</td>\n",
       "    </tr>\n",
       "    <tr>\n",
       "      <th>5041</th>\n",
       "      <td>YZ Ceti b</td>\n",
       "      <td>0.7 Earths</td>\n",
       "      <td>12.0</td>\n",
       "      <td>2017</td>\n",
       "      <td>12.07400</td>\n",
       "    </tr>\n",
       "    <tr>\n",
       "      <th>5042</th>\n",
       "      <td>YZ Ceti c</td>\n",
       "      <td>1.14 Earths</td>\n",
       "      <td>12.0</td>\n",
       "      <td>2017</td>\n",
       "      <td>12.07400</td>\n",
       "    </tr>\n",
       "    <tr>\n",
       "      <th>5043</th>\n",
       "      <td>YZ Ceti d</td>\n",
       "      <td>1.09 Earths</td>\n",
       "      <td>12.0</td>\n",
       "      <td>2017</td>\n",
       "      <td>12.07400</td>\n",
       "    </tr>\n",
       "  </tbody>\n",
       "</table>\n",
       "<p>5044 rows × 5 columns</p>\n",
       "</div>"
      ],
      "text/plain": [
       "                     names            mass  distance  discovery_year  \\\n",
       "0     11 Comae Berenices b   19.4 Jupiters     304.0            2007   \n",
       "1       11 Ursae Minoris b  14.74 Jupiters     409.0            2009   \n",
       "2          14 Andromedae b    4.8 Jupiters     246.0            2008   \n",
       "3            14 Herculis b   4.66 Jupiters      58.0            2002   \n",
       "4             16 Cygni B b   1.78 Jupiters      69.0            1996   \n",
       "...                    ...             ...       ...             ...   \n",
       "5039                XO-7 b  0.709 Jupiters     764.0            2019   \n",
       "5040              YSES 2 b    6.3 Jupiters     357.0            2021   \n",
       "5041             YZ Ceti b      0.7 Earths      12.0            2017   \n",
       "5042             YZ Ceti c     1.14 Earths      12.0            2017   \n",
       "5043             YZ Ceti d     1.09 Earths      12.0            2017   \n",
       "\n",
       "      stellar_magnitude  \n",
       "0               4.72307  \n",
       "1               5.01300  \n",
       "2               5.23133  \n",
       "3               6.61935  \n",
       "4               6.21500  \n",
       "...                 ...  \n",
       "5039           10.52100  \n",
       "5040           10.88500  \n",
       "5041           12.07400  \n",
       "5042           12.07400  \n",
       "5043           12.07400  \n",
       "\n",
       "[5044 rows x 5 columns]"
      ]
     },
     "execution_count": 4,
     "metadata": {},
     "output_type": "execute_result"
    }
   ],
   "source": [
    "df"
   ]
  },
  {
   "cell_type": "code",
   "execution_count": 5,
   "metadata": {},
   "outputs": [
    {
     "name": "stdout",
     "output_type": "stream",
     "text": [
      "<class 'pandas.core.frame.DataFrame'>\n",
      "Int64Index: 5044 entries, 0 to 5043\n",
      "Data columns (total 5 columns):\n",
      " #   Column             Non-Null Count  Dtype  \n",
      "---  ------             --------------  -----  \n",
      " 0   names              5044 non-null   object \n",
      " 1   mass               5044 non-null   object \n",
      " 2   distance           5028 non-null   float64\n",
      " 3   discovery_year     5044 non-null   int64  \n",
      " 4   stellar_magnitude  4927 non-null   float64\n",
      "dtypes: float64(2), int64(1), object(2)\n",
      "memory usage: 236.4+ KB\n"
     ]
    }
   ],
   "source": [
    "df.info()"
   ]
  },
  {
   "cell_type": "code",
   "execution_count": 6,
   "metadata": {},
   "outputs": [],
   "source": [
    "df_2 = pd.read_csv(\"../data/raw/raw_2.csv\", index_col=0)"
   ]
  },
  {
   "cell_type": "code",
   "execution_count": 7,
   "metadata": {},
   "outputs": [
    {
     "data": {
      "text/html": [
       "<div>\n",
       "<style scoped>\n",
       "    .dataframe tbody tr th:only-of-type {\n",
       "        vertical-align: middle;\n",
       "    }\n",
       "\n",
       "    .dataframe tbody tr th {\n",
       "        vertical-align: top;\n",
       "    }\n",
       "\n",
       "    .dataframe thead th {\n",
       "        text-align: right;\n",
       "    }\n",
       "</style>\n",
       "<table border=\"1\" class=\"dataframe\">\n",
       "  <thead>\n",
       "    <tr style=\"text-align: right;\">\n",
       "      <th></th>\n",
       "      <th>planet_type</th>\n",
       "      <th>radius</th>\n",
       "      <th>orbital_radius</th>\n",
       "      <th>orbital_days</th>\n",
       "      <th>eccentricity</th>\n",
       "      <th>detection_method</th>\n",
       "    </tr>\n",
       "  </thead>\n",
       "  <tbody>\n",
       "    <tr>\n",
       "      <th>0</th>\n",
       "      <td>Gas Giant</td>\n",
       "      <td>1.08 x Jupiter(estimate)</td>\n",
       "      <td>1.29</td>\n",
       "      <td>326.0</td>\n",
       "      <td>0.23</td>\n",
       "      <td>Radial Velocity</td>\n",
       "    </tr>\n",
       "    <tr>\n",
       "      <th>1</th>\n",
       "      <td>Gas Giant</td>\n",
       "      <td>1.09 x Jupiter(estimate)</td>\n",
       "      <td>1.53</td>\n",
       "      <td>1.4</td>\n",
       "      <td>0.08</td>\n",
       "      <td>Radial Velocity</td>\n",
       "    </tr>\n",
       "    <tr>\n",
       "      <th>2</th>\n",
       "      <td>Gas Giant</td>\n",
       "      <td>1.15 x Jupiter(estimate)</td>\n",
       "      <td>0.83</td>\n",
       "      <td>185.8</td>\n",
       "      <td>0.0</td>\n",
       "      <td>Radial Velocity</td>\n",
       "    </tr>\n",
       "    <tr>\n",
       "      <th>3</th>\n",
       "      <td>Gas Giant</td>\n",
       "      <td>1.15 x Jupiter(estimate)</td>\n",
       "      <td>2.93</td>\n",
       "      <td>4.9</td>\n",
       "      <td>0.37</td>\n",
       "      <td>Radial Velocity</td>\n",
       "    </tr>\n",
       "    <tr>\n",
       "      <th>4</th>\n",
       "      <td>Gas Giant</td>\n",
       "      <td>1.2 x Jupiter(estimate)</td>\n",
       "      <td>1.66</td>\n",
       "      <td>2.2</td>\n",
       "      <td>0.68</td>\n",
       "      <td>Radial Velocity</td>\n",
       "    </tr>\n",
       "    <tr>\n",
       "      <th>...</th>\n",
       "      <td>...</td>\n",
       "      <td>...</td>\n",
       "      <td>...</td>\n",
       "      <td>...</td>\n",
       "      <td>...</td>\n",
       "      <td>...</td>\n",
       "    </tr>\n",
       "    <tr>\n",
       "      <th>5039</th>\n",
       "      <td>Gas Giant</td>\n",
       "      <td>1.373 x Jupiter</td>\n",
       "      <td>0.04421</td>\n",
       "      <td>2.9</td>\n",
       "      <td>0.04</td>\n",
       "      <td>Transit</td>\n",
       "    </tr>\n",
       "    <tr>\n",
       "      <th>5040</th>\n",
       "      <td>Gas Giant</td>\n",
       "      <td>1.14 x Jupiter(estimate)</td>\n",
       "      <td>115.0</td>\n",
       "      <td>1176.5</td>\n",
       "      <td>0.0</td>\n",
       "      <td>Direct Imaging</td>\n",
       "    </tr>\n",
       "    <tr>\n",
       "      <th>5041</th>\n",
       "      <td>Terrestrial</td>\n",
       "      <td>0.913 x Earth(estimate)</td>\n",
       "      <td>0.01634</td>\n",
       "      <td>2.0</td>\n",
       "      <td>0.06</td>\n",
       "      <td>Radial Velocity</td>\n",
       "    </tr>\n",
       "    <tr>\n",
       "      <th>5042</th>\n",
       "      <td>Super Earth</td>\n",
       "      <td>1.05 x Earth(estimate)</td>\n",
       "      <td>0.02156</td>\n",
       "      <td>3.1</td>\n",
       "      <td>0.0</td>\n",
       "      <td>Radial Velocity</td>\n",
       "    </tr>\n",
       "    <tr>\n",
       "      <th>5043</th>\n",
       "      <td>Super Earth</td>\n",
       "      <td>1.03 x Earth(estimate)</td>\n",
       "      <td>0.02851</td>\n",
       "      <td>4.7</td>\n",
       "      <td>0.07</td>\n",
       "      <td>Radial Velocity</td>\n",
       "    </tr>\n",
       "  </tbody>\n",
       "</table>\n",
       "<p>5044 rows × 6 columns</p>\n",
       "</div>"
      ],
      "text/plain": [
       "      planet_type                    radius orbital_radius  orbital_days  \\\n",
       "0       Gas Giant  1.08 x Jupiter(estimate)           1.29         326.0   \n",
       "1       Gas Giant  1.09 x Jupiter(estimate)           1.53           1.4   \n",
       "2       Gas Giant  1.15 x Jupiter(estimate)           0.83         185.8   \n",
       "3       Gas Giant  1.15 x Jupiter(estimate)           2.93           4.9   \n",
       "4       Gas Giant   1.2 x Jupiter(estimate)           1.66           2.2   \n",
       "...           ...                       ...            ...           ...   \n",
       "5039    Gas Giant           1.373 x Jupiter        0.04421           2.9   \n",
       "5040    Gas Giant  1.14 x Jupiter(estimate)          115.0        1176.5   \n",
       "5041  Terrestrial   0.913 x Earth(estimate)        0.01634           2.0   \n",
       "5042  Super Earth    1.05 x Earth(estimate)        0.02156           3.1   \n",
       "5043  Super Earth    1.03 x Earth(estimate)        0.02851           4.7   \n",
       "\n",
       "     eccentricity detection_method  \n",
       "0            0.23  Radial Velocity  \n",
       "1            0.08  Radial Velocity  \n",
       "2             0.0  Radial Velocity  \n",
       "3            0.37  Radial Velocity  \n",
       "4            0.68  Radial Velocity  \n",
       "...           ...              ...  \n",
       "5039         0.04          Transit  \n",
       "5040          0.0   Direct Imaging  \n",
       "5041         0.06  Radial Velocity  \n",
       "5042          0.0  Radial Velocity  \n",
       "5043         0.07  Radial Velocity  \n",
       "\n",
       "[5044 rows x 6 columns]"
      ]
     },
     "execution_count": 7,
     "metadata": {},
     "output_type": "execute_result"
    }
   ],
   "source": [
    "df_2"
   ]
  },
  {
   "cell_type": "markdown",
   "metadata": {},
   "source": [
    "## Transform Mass From jupiter to Earth"
   ]
  },
  {
   "cell_type": "code",
   "execution_count": 8,
   "metadata": {},
   "outputs": [],
   "source": [
    "mass_E = []\n",
    "for i in df.mass:\n",
    "\ttry:\n",
    "\t\tif i.split(' ')[1] == 'Jupiters':\n",
    "\t\t\tJ = float(i.split(' ')[0])\n",
    "\t\t\tmass_E.append(J*317.8)\n",
    "\t\telse:\n",
    "\t\t\tE = float(i.split(' ')[0])\n",
    "\t\t\tmass_E.append(E)\n",
    "\texcept:\n",
    "\t\tmass_E.append(None)\n",
    "df['mass_E'] = mass_E"
   ]
  },
  {
   "cell_type": "markdown",
   "metadata": {},
   "source": [
    "# Merge Dataframes"
   ]
  },
  {
   "cell_type": "code",
   "execution_count": 9,
   "metadata": {},
   "outputs": [],
   "source": [
    "df['orbital_days'] = df_2.orbital_days\n",
    "df['detection_method'] = df_2.detection_method\n",
    "df['planet_type'] = df_2.planet_type"
   ]
  },
  {
   "cell_type": "markdown",
   "metadata": {},
   "source": [
    "### Transform Eccentricity to float"
   ]
  },
  {
   "cell_type": "code",
   "execution_count": 10,
   "metadata": {},
   "outputs": [],
   "source": [
    "ecc = []\n",
    "for i in df_2.eccentricity:\n",
    "\ttry:\n",
    "\t\tecc.append(float(i))\n",
    "\texcept:\n",
    "\t\tecc.append(None)\n",
    "df['eccentricity'] = ecc"
   ]
  },
  {
   "cell_type": "markdown",
   "metadata": {},
   "source": [
    "### Orbital Radius have Correlation of 1 with Orbital Days"
   ]
  },
  {
   "cell_type": "code",
   "execution_count": 11,
   "metadata": {},
   "outputs": [],
   "source": [
    "# orb_rad = []\n",
    "# for i in df_2.orbital_radius:\n",
    "# \tif i == 'Unknown':\n",
    "# \t\torb_rad.append(None)\n",
    "# \telse:\n",
    "# \t\torb_rad.append(float(i))\n",
    "# df['orbital_radius'] = orb_rad"
   ]
  },
  {
   "cell_type": "markdown",
   "metadata": {},
   "source": [
    "## Transform Radius From jupiter to Earth"
   ]
  },
  {
   "cell_type": "code",
   "execution_count": 12,
   "metadata": {},
   "outputs": [],
   "source": [
    "rad = []\n",
    "scale = []\n",
    "for i in df_2.radius:\n",
    "\tif i == 'Unknown':\n",
    "\t\trad.append(None)\n",
    "\t\tscale.append(None)\n",
    "\telse:\n",
    "\t\ttemp = i.split(' ')\n",
    "\t\tif len(temp) == 3:\n",
    "\t\t\trad.append(float(temp[0]))\n",
    "\t\t\tscale.append(temp[2])\n",
    "\t\telse:\n",
    "\t\t\trad.append(float(temp[0]))\n",
    "\t\t\tscale.append(None)\n",
    "df['radius'] = rad\n",
    "df['scale_radius'] = scale"
   ]
  },
  {
   "cell_type": "code",
   "execution_count": 13,
   "metadata": {},
   "outputs": [
    {
     "name": "stderr",
     "output_type": "stream",
     "text": [
      "C:\\Users\\Paris\\AppData\\Local\\Temp\\ipykernel_11040\\1303421568.py:10: SettingWithCopyWarning: \n",
      "A value is trying to be set on a copy of a slice from a DataFrame\n",
      "\n",
      "See the caveats in the documentation: https://pandas.pydata.org/pandas-docs/stable/user_guide/indexing.html#returning-a-view-versus-a-copy\n",
      "  df_rad.radius[df_rad.index.isin(idx)] = df_rad.radius*11.2089\n"
     ]
    }
   ],
   "source": [
    "df_rad = df.loc[:,['radius','scale_radius']]\n",
    "idx = []\n",
    "n = 0\n",
    "for i in df_rad.scale_radius:\n",
    "\tif i != None:\n",
    "\t\tif i[:7] == 'Jupiter':\n",
    "\t\t\tidx.append(n)\n",
    "\tn +=1\n",
    "\n",
    "df_rad.radius[df_rad.index.isin(idx)] = df_rad.radius*11.2089\n",
    "df['radius_E'] = df_rad.radius\n",
    "\n"
   ]
  },
  {
   "cell_type": "markdown",
   "metadata": {},
   "source": [
    "### Drop Correlational Columns"
   ]
  },
  {
   "cell_type": "code",
   "execution_count": 14,
   "metadata": {},
   "outputs": [],
   "source": [
    "df = df.drop(['mass','radius','scale_radius'], axis=1)"
   ]
  },
  {
   "cell_type": "markdown",
   "metadata": {},
   "source": [
    "### Drop Unknowns"
   ]
  },
  {
   "cell_type": "code",
   "execution_count": 15,
   "metadata": {},
   "outputs": [
    {
     "data": {
      "text/html": [
       "<div>\n",
       "<style scoped>\n",
       "    .dataframe tbody tr th:only-of-type {\n",
       "        vertical-align: middle;\n",
       "    }\n",
       "\n",
       "    .dataframe tbody tr th {\n",
       "        vertical-align: top;\n",
       "    }\n",
       "\n",
       "    .dataframe thead th {\n",
       "        text-align: right;\n",
       "    }\n",
       "</style>\n",
       "<table border=\"1\" class=\"dataframe\">\n",
       "  <thead>\n",
       "    <tr style=\"text-align: right;\">\n",
       "      <th></th>\n",
       "      <th>names</th>\n",
       "      <th>distance</th>\n",
       "      <th>discovery_year</th>\n",
       "      <th>stellar_magnitude</th>\n",
       "      <th>mass_E</th>\n",
       "      <th>orbital_days</th>\n",
       "      <th>detection_method</th>\n",
       "      <th>planet_type</th>\n",
       "      <th>eccentricity</th>\n",
       "      <th>radius_E</th>\n",
       "    </tr>\n",
       "  </thead>\n",
       "  <tbody>\n",
       "    <tr>\n",
       "      <th>4364</th>\n",
       "      <td>KIC 10001893 b</td>\n",
       "      <td>5457.0</td>\n",
       "      <td>2014</td>\n",
       "      <td>15.829</td>\n",
       "      <td>NaN</td>\n",
       "      <td>0.2</td>\n",
       "      <td>Orbital Brightness Modulation</td>\n",
       "      <td>Unknown</td>\n",
       "      <td>0.0</td>\n",
       "      <td>NaN</td>\n",
       "    </tr>\n",
       "    <tr>\n",
       "      <th>4365</th>\n",
       "      <td>KIC 10001893 c</td>\n",
       "      <td>5457.0</td>\n",
       "      <td>2014</td>\n",
       "      <td>15.829</td>\n",
       "      <td>NaN</td>\n",
       "      <td>0.3</td>\n",
       "      <td>Orbital Brightness Modulation</td>\n",
       "      <td>Unknown</td>\n",
       "      <td>0.0</td>\n",
       "      <td>NaN</td>\n",
       "    </tr>\n",
       "    <tr>\n",
       "      <th>4366</th>\n",
       "      <td>KIC 10001893 d</td>\n",
       "      <td>5457.0</td>\n",
       "      <td>2014</td>\n",
       "      <td>15.829</td>\n",
       "      <td>NaN</td>\n",
       "      <td>0.8</td>\n",
       "      <td>Orbital Brightness Modulation</td>\n",
       "      <td>Unknown</td>\n",
       "      <td>0.0</td>\n",
       "      <td>NaN</td>\n",
       "    </tr>\n",
       "    <tr>\n",
       "      <th>4443</th>\n",
       "      <td>LkCa 15 b</td>\n",
       "      <td>516.0</td>\n",
       "      <td>2015</td>\n",
       "      <td>12.025</td>\n",
       "      <td>NaN</td>\n",
       "      <td>inf</td>\n",
       "      <td>Direct Imaging</td>\n",
       "      <td>Unknown</td>\n",
       "      <td>0.0</td>\n",
       "      <td>NaN</td>\n",
       "    </tr>\n",
       "    <tr>\n",
       "      <th>4444</th>\n",
       "      <td>LkCa 15 c</td>\n",
       "      <td>516.0</td>\n",
       "      <td>2015</td>\n",
       "      <td>12.025</td>\n",
       "      <td>NaN</td>\n",
       "      <td>inf</td>\n",
       "      <td>Direct Imaging</td>\n",
       "      <td>Unknown</td>\n",
       "      <td>0.0</td>\n",
       "      <td>NaN</td>\n",
       "    </tr>\n",
       "  </tbody>\n",
       "</table>\n",
       "</div>"
      ],
      "text/plain": [
       "               names  distance  discovery_year  stellar_magnitude  mass_E  \\\n",
       "4364  KIC 10001893 b    5457.0            2014             15.829     NaN   \n",
       "4365  KIC 10001893 c    5457.0            2014             15.829     NaN   \n",
       "4366  KIC 10001893 d    5457.0            2014             15.829     NaN   \n",
       "4443       LkCa 15 b     516.0            2015             12.025     NaN   \n",
       "4444       LkCa 15 c     516.0            2015             12.025     NaN   \n",
       "\n",
       "      orbital_days               detection_method planet_type  eccentricity  \\\n",
       "4364           0.2  Orbital Brightness Modulation     Unknown           0.0   \n",
       "4365           0.3  Orbital Brightness Modulation     Unknown           0.0   \n",
       "4366           0.8  Orbital Brightness Modulation     Unknown           0.0   \n",
       "4443           inf                 Direct Imaging     Unknown           0.0   \n",
       "4444           inf                 Direct Imaging     Unknown           0.0   \n",
       "\n",
       "      radius_E  \n",
       "4364       NaN  \n",
       "4365       NaN  \n",
       "4366       NaN  \n",
       "4443       NaN  \n",
       "4444       NaN  "
      ]
     },
     "execution_count": 15,
     "metadata": {},
     "output_type": "execute_result"
    }
   ],
   "source": [
    "trash = df[df.planet_type == 'Unknown']\n",
    "trash"
   ]
  },
  {
   "cell_type": "code",
   "execution_count": 16,
   "metadata": {},
   "outputs": [],
   "source": [
    "df = df.drop(trash.index, axis=0)"
   ]
  },
  {
   "cell_type": "markdown",
   "metadata": {},
   "source": [
    "### Save Categorical Columns"
   ]
  },
  {
   "cell_type": "code",
   "execution_count": 17,
   "metadata": {},
   "outputs": [],
   "source": [
    "target = df.planet_type\n",
    "names = df.names\n",
    "detect =df.detection_method"
   ]
  },
  {
   "cell_type": "markdown",
   "metadata": {},
   "source": [
    "# Encode Target"
   ]
  },
  {
   "cell_type": "code",
   "execution_count": 18,
   "metadata": {},
   "outputs": [],
   "source": [
    "planet_encode = {\n",
    "    'Gas Giant':3,\n",
    "    'Neptune-like':2,\n",
    "    'Super Earth':1,\n",
    "    'Terrestrial':0\n",
    "}"
   ]
  },
  {
   "cell_type": "code",
   "execution_count": 19,
   "metadata": {},
   "outputs": [],
   "source": [
    "df.planet_type = df.planet_type.map(planet_encode)"
   ]
  },
  {
   "cell_type": "markdown",
   "metadata": {},
   "source": [
    "### Impute Infinite"
   ]
  },
  {
   "cell_type": "code",
   "execution_count": 20,
   "metadata": {},
   "outputs": [
    {
     "data": {
      "text/html": [
       "<div>\n",
       "<style scoped>\n",
       "    .dataframe tbody tr th:only-of-type {\n",
       "        vertical-align: middle;\n",
       "    }\n",
       "\n",
       "    .dataframe tbody tr th {\n",
       "        vertical-align: top;\n",
       "    }\n",
       "\n",
       "    .dataframe thead th {\n",
       "        text-align: right;\n",
       "    }\n",
       "</style>\n",
       "<table border=\"1\" class=\"dataframe\">\n",
       "  <thead>\n",
       "    <tr style=\"text-align: right;\">\n",
       "      <th></th>\n",
       "      <th>names</th>\n",
       "      <th>distance</th>\n",
       "      <th>discovery_year</th>\n",
       "      <th>stellar_magnitude</th>\n",
       "      <th>mass_E</th>\n",
       "      <th>orbital_days</th>\n",
       "      <th>detection_method</th>\n",
       "      <th>planet_type</th>\n",
       "      <th>eccentricity</th>\n",
       "      <th>radius_E</th>\n",
       "    </tr>\n",
       "  </thead>\n",
       "  <tbody>\n",
       "    <tr>\n",
       "      <th>120</th>\n",
       "      <td>CT Chamaleontis b</td>\n",
       "      <td>622.0</td>\n",
       "      <td>2007</td>\n",
       "      <td>12.335</td>\n",
       "      <td>5402.6</td>\n",
       "      <td>inf</td>\n",
       "      <td>Direct Imaging</td>\n",
       "      <td>3</td>\n",
       "      <td>0.0</td>\n",
       "      <td>24.65958</td>\n",
       "    </tr>\n",
       "  </tbody>\n",
       "</table>\n",
       "</div>"
      ],
      "text/plain": [
       "                 names  distance  discovery_year  stellar_magnitude  mass_E  \\\n",
       "120  CT Chamaleontis b     622.0            2007             12.335  5402.6   \n",
       "\n",
       "     orbital_days detection_method  planet_type  eccentricity  radius_E  \n",
       "120           inf   Direct Imaging            3           0.0  24.65958  "
      ]
     },
     "execution_count": 20,
     "metadata": {},
     "output_type": "execute_result"
    }
   ],
   "source": [
    "df[df.orbital_days == df.orbital_days.max()]"
   ]
  },
  {
   "cell_type": "code",
   "execution_count": 21,
   "metadata": {},
   "outputs": [],
   "source": [
    "df.loc[120,['orbital_days']] = df.orbital_days.mode()[0]"
   ]
  },
  {
   "cell_type": "markdown",
   "metadata": {},
   "source": [
    "# Fill Nan"
   ]
  },
  {
   "cell_type": "code",
   "execution_count": 22,
   "metadata": {},
   "outputs": [],
   "source": [
    "# from sklearn.impute import SimpleImputer\n",
    "# def MeanImpute(df):\n",
    "#     for column in df.select_dtypes(np.number).columns:\n",
    "#         df['column'] = SimpleImputer(strategy='mean')\n",
    "#     return df\n",
    "\n",
    "\n",
    "# df = MeanImpute(df)"
   ]
  },
  {
   "cell_type": "code",
   "execution_count": 23,
   "metadata": {},
   "outputs": [
    {
     "name": "stdout",
     "output_type": "stream",
     "text": [
      "<class 'pandas.core.frame.DataFrame'>\n",
      "Int64Index: 5039 entries, 0 to 5043\n",
      "Data columns (total 10 columns):\n",
      " #   Column             Non-Null Count  Dtype  \n",
      "---  ------             --------------  -----  \n",
      " 0   names              5039 non-null   object \n",
      " 1   distance           5023 non-null   float64\n",
      " 2   discovery_year     5039 non-null   int64  \n",
      " 3   stellar_magnitude  4922 non-null   float64\n",
      " 4   mass_E             5021 non-null   float64\n",
      " 5   orbital_days       5039 non-null   float64\n",
      " 6   detection_method   5039 non-null   object \n",
      " 7   planet_type        5039 non-null   int64  \n",
      " 8   eccentricity       4862 non-null   float64\n",
      " 9   radius_E           5030 non-null   float64\n",
      "dtypes: float64(6), int64(2), object(2)\n",
      "memory usage: 562.1+ KB\n"
     ]
    }
   ],
   "source": [
    "df.info()"
   ]
  },
  {
   "cell_type": "code",
   "execution_count": 24,
   "metadata": {},
   "outputs": [
    {
     "data": {
      "text/plain": [
       "names                  0\n",
       "distance              16\n",
       "discovery_year         0\n",
       "stellar_magnitude    117\n",
       "mass_E                18\n",
       "orbital_days           0\n",
       "detection_method       0\n",
       "planet_type            0\n",
       "eccentricity         177\n",
       "radius_E               9\n",
       "dtype: int64"
      ]
     },
     "execution_count": 24,
     "metadata": {},
     "output_type": "execute_result"
    }
   ],
   "source": [
    "df.isna().sum()"
   ]
  },
  {
   "cell_type": "code",
   "execution_count": 25,
   "metadata": {},
   "outputs": [
    {
     "data": {
      "text/plain": [
       "337"
      ]
     },
     "execution_count": 25,
     "metadata": {},
     "output_type": "execute_result"
    }
   ],
   "source": [
    "df.isna().sum().sum()"
   ]
  },
  {
   "cell_type": "code",
   "execution_count": 26,
   "metadata": {},
   "outputs": [],
   "source": [
    "from sklearn.impute import KNNImputer\n",
    "imputer = KNNImputer(n_neighbors=2)\n",
    "df = pd.DataFrame(imputer.fit_transform(df.select_dtypes(np.number)),columns=df.select_dtypes(np.number).columns)"
   ]
  },
  {
   "cell_type": "code",
   "execution_count": 27,
   "metadata": {},
   "outputs": [
    {
     "name": "stdout",
     "output_type": "stream",
     "text": [
      "<class 'pandas.core.frame.DataFrame'>\n",
      "RangeIndex: 5039 entries, 0 to 5038\n",
      "Data columns (total 8 columns):\n",
      " #   Column             Non-Null Count  Dtype  \n",
      "---  ------             --------------  -----  \n",
      " 0   distance           5039 non-null   float64\n",
      " 1   discovery_year     5039 non-null   float64\n",
      " 2   stellar_magnitude  5039 non-null   float64\n",
      " 3   mass_E             5039 non-null   float64\n",
      " 4   orbital_days       5039 non-null   float64\n",
      " 5   planet_type        5039 non-null   float64\n",
      " 6   eccentricity       5039 non-null   float64\n",
      " 7   radius_E           5039 non-null   float64\n",
      "dtypes: float64(8)\n",
      "memory usage: 315.1 KB\n"
     ]
    }
   ],
   "source": [
    "df.info()"
   ]
  },
  {
   "cell_type": "markdown",
   "metadata": {},
   "source": [
    "# Log Transform Features"
   ]
  },
  {
   "cell_type": "code",
   "execution_count": 28,
   "metadata": {},
   "outputs": [],
   "source": [
    "df['log_mass'] = np.log(df.mass_E)\n",
    "df['log_distance'] = np.log(df.distance)\n",
    "df['log_orbital'] = np.log(df.orbital_days)"
   ]
  },
  {
   "cell_type": "code",
   "execution_count": 29,
   "metadata": {},
   "outputs": [],
   "source": [
    "log_radE = []\n",
    "for i in df.radius_E:\n",
    "\ttry:\n",
    "\t\tlog_radE.append(np.log(i))\n",
    "\texcept:\n",
    "\t\tlog_radE.append(None)\n",
    "df['log_radius'] = log_radE"
   ]
  },
  {
   "cell_type": "markdown",
   "metadata": {},
   "source": [
    "### Save data"
   ]
  },
  {
   "cell_type": "code",
   "execution_count": 30,
   "metadata": {},
   "outputs": [],
   "source": [
    "df.to_csv(\"../data/preprocessed/test.csv\")"
   ]
  }
 ],
 "metadata": {
  "kernelspec": {
   "display_name": "Python 3.9.12 ('the_bridge')",
   "language": "python",
   "name": "python3"
  },
  "language_info": {
   "codemirror_mode": {
    "name": "ipython",
    "version": 3
   },
   "file_extension": ".py",
   "mimetype": "text/x-python",
   "name": "python",
   "nbconvert_exporter": "python",
   "pygments_lexer": "ipython3",
   "version": "3.9.12"
  },
  "orig_nbformat": 4,
  "vscode": {
   "interpreter": {
    "hash": "4bf612fd9f670b4cbe581c743168f3e65e97abe2c4dc839c108fa6dc9b2daabc"
   }
  }
 },
 "nbformat": 4,
 "nbformat_minor": 2
}
