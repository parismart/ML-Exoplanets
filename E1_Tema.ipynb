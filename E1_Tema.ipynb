{
 "cells": [
  {
   "cell_type": "markdown",
   "metadata": {},
   "source": [
    "# Primera entrega ML"
   ]
  },
  {
   "cell_type": "markdown",
   "metadata": {},
   "source": [
    "### Título de proyecto"
   ]
  },
  {
   "cell_type": "code",
   "execution_count": 3,
   "metadata": {},
   "outputs": [],
   "source": [
    "# Escribir el título de proyecto en Markdown\n",
    "titulo = \"Machine Learning para la Clasificación de Planetas\""
   ]
  },
  {
   "cell_type": "markdown",
   "metadata": {},
   "source": [
    "# Machine Learning para la Clasificación de Planetas"
   ]
  },
  {
   "cell_type": "markdown",
   "metadata": {},
   "source": [
    "### Tema"
   ]
  },
  {
   "cell_type": "code",
   "execution_count": null,
   "metadata": {},
   "outputs": [],
   "source": [
    "tema = \"Un modelo para predecir el tipo de exoplaneta descubierto en funcion de los datos que tenemos sobre el\" # Breve descripción del proyecto"
   ]
  },
  {
   "cell_type": "code",
   "execution_count": null,
   "metadata": {},
   "outputs": [],
   "source": [
    "# Describir el tema en Markdown "
   ]
  },
  {
   "cell_type": "markdown",
   "metadata": {},
   "source": [
    "Un modelo para predecir el tipo de exoplaneta descubierto en funcion de los datos que tenemos sobre el"
   ]
  },
  {
   "cell_type": "markdown",
   "metadata": {},
   "source": []
  },
  {
   "cell_type": "markdown",
   "metadata": {},
   "source": [
    "### Datasets y fuentes alternativas de datos\n",
    "Incluye aquí una breve descripción del dataset o datasets para tu proyecto. Incluye también las fuentes de cada uno de ellos."
   ]
  },
  {
   "cell_type": "code",
   "execution_count": null,
   "metadata": {},
   "outputs": [],
   "source": [
    "tipo_ml = \"Clasificación\" # Regresión? Clasificación?\n",
    "target_descr = \"planet_type\" # Descripción de la variable objetivo\n",
    "metricas = ['roc_auc_score'] # Metricas escogidas para evaluar los modelos"
   ]
  },
  {
   "cell_type": "code",
   "execution_count": null,
   "metadata": {},
   "outputs": [],
   "source": [
    "# dasets y enlaces de datasets en Markdown\n",
    "enlaces = [\"https://exoplanets.nasa.gov/\"]"
   ]
  },
  {
   "cell_type": "code",
   "execution_count": 12,
   "metadata": {},
   "outputs": [
    {
     "data": {
      "text/html": [
       "<div>\n",
       "<style scoped>\n",
       "    .dataframe tbody tr th:only-of-type {\n",
       "        vertical-align: middle;\n",
       "    }\n",
       "\n",
       "    .dataframe tbody tr th {\n",
       "        vertical-align: top;\n",
       "    }\n",
       "\n",
       "    .dataframe thead th {\n",
       "        text-align: right;\n",
       "    }\n",
       "</style>\n",
       "<table border=\"1\" class=\"dataframe\">\n",
       "  <thead>\n",
       "    <tr style=\"text-align: right;\">\n",
       "      <th></th>\n",
       "      <th>names</th>\n",
       "      <th>distance</th>\n",
       "      <th>discovery_year</th>\n",
       "      <th>orbital_days</th>\n",
       "      <th>eccentricity</th>\n",
       "      <th>mass_E</th>\n",
       "      <th>radius_E</th>\n",
       "      <th>planet_type</th>\n",
       "      <th>detection_method</th>\n",
       "    </tr>\n",
       "  </thead>\n",
       "  <tbody>\n",
       "    <tr>\n",
       "      <th>0</th>\n",
       "      <td>11 Comae Berenices b</td>\n",
       "      <td>304.0</td>\n",
       "      <td>2007</td>\n",
       "      <td>257.8</td>\n",
       "      <td>0.32</td>\n",
       "      <td>6165.320</td>\n",
       "      <td>3.228163</td>\n",
       "      <td>Neptune-like</td>\n",
       "      <td>Radial Velocity</td>\n",
       "    </tr>\n",
       "    <tr>\n",
       "      <th>1</th>\n",
       "      <td>11 Ursae Minoris b</td>\n",
       "      <td>409.0</td>\n",
       "      <td>2009</td>\n",
       "      <td>1.9</td>\n",
       "      <td>0.07</td>\n",
       "      <td>4684.372</td>\n",
       "      <td>13.226502</td>\n",
       "      <td>Gas Giant</td>\n",
       "      <td>Radial Velocity</td>\n",
       "    </tr>\n",
       "    <tr>\n",
       "      <th>2</th>\n",
       "      <td>14 Andromedae b</td>\n",
       "      <td>246.0</td>\n",
       "      <td>2008</td>\n",
       "      <td>18.5</td>\n",
       "      <td>0.17</td>\n",
       "      <td>1525.440</td>\n",
       "      <td>13.450680</td>\n",
       "      <td>Gas Giant</td>\n",
       "      <td>Radial Velocity</td>\n",
       "    </tr>\n",
       "    <tr>\n",
       "      <th>3</th>\n",
       "      <td>14 Herculis b</td>\n",
       "      <td>58.0</td>\n",
       "      <td>2002</td>\n",
       "      <td>11.2</td>\n",
       "      <td>0.37</td>\n",
       "      <td>1480.948</td>\n",
       "      <td>13.338591</td>\n",
       "      <td>Gas Giant</td>\n",
       "      <td>Radial Velocity</td>\n",
       "    </tr>\n",
       "    <tr>\n",
       "      <th>4</th>\n",
       "      <td>16 Cygni B b</td>\n",
       "      <td>69.0</td>\n",
       "      <td>1996</td>\n",
       "      <td>30.6</td>\n",
       "      <td>0.06</td>\n",
       "      <td>565.684</td>\n",
       "      <td>5.189721</td>\n",
       "      <td>Neptune-like</td>\n",
       "      <td>Radial Velocity</td>\n",
       "    </tr>\n",
       "  </tbody>\n",
       "</table>\n",
       "</div>"
      ],
      "text/plain": [
       "                  names  distance  discovery_year  orbital_days  eccentricity  \\\n",
       "0  11 Comae Berenices b     304.0            2007         257.8          0.32   \n",
       "1    11 Ursae Minoris b     409.0            2009           1.9          0.07   \n",
       "2       14 Andromedae b     246.0            2008          18.5          0.17   \n",
       "3         14 Herculis b      58.0            2002          11.2          0.37   \n",
       "4          16 Cygni B b      69.0            1996          30.6          0.06   \n",
       "\n",
       "     mass_E   radius_E   planet_type detection_method  \n",
       "0  6165.320   3.228163  Neptune-like  Radial Velocity  \n",
       "1  4684.372  13.226502     Gas Giant  Radial Velocity  \n",
       "2  1525.440  13.450680     Gas Giant  Radial Velocity  \n",
       "3  1480.948  13.338591     Gas Giant  Radial Velocity  \n",
       "4   565.684   5.189721  Neptune-like  Radial Velocity  "
      ]
     },
     "execution_count": 12,
     "metadata": {},
     "output_type": "execute_result"
    }
   ],
   "source": [
    "# load dataset\n",
    "import pandas as pd\n",
    "df = pd.read_csv(\"src/data/preprocessed/test.csv\", index_col=0)\n",
    "df_1 = df.iloc[:,:-4]\n",
    "df_1.head()"
   ]
  }
 ],
 "metadata": {
  "kernelspec": {
   "display_name": "Python 3.9.12 ('the_bridge')",
   "language": "python",
   "name": "python3"
  },
  "language_info": {
   "codemirror_mode": {
    "name": "ipython",
    "version": 3
   },
   "file_extension": ".py",
   "mimetype": "text/x-python",
   "name": "python",
   "nbconvert_exporter": "python",
   "pygments_lexer": "ipython3",
   "version": "3.9.12"
  },
  "orig_nbformat": 4,
  "vscode": {
   "interpreter": {
    "hash": "4bf612fd9f670b4cbe581c743168f3e65e97abe2c4dc839c108fa6dc9b2daabc"
   }
  }
 },
 "nbformat": 4,
 "nbformat_minor": 2
}
